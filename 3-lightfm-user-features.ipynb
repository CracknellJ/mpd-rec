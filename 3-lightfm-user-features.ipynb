{
 "cells": [
  {
   "cell_type": "code",
   "execution_count": 1,
   "metadata": {},
   "outputs": [
    {
     "name": "stderr",
     "output_type": "stream",
     "text": [
      "c:\\Users\\502425\\Anaconda3\\envs\\lfmrec\\lib\\site-packages\\lightfm\\_lightfm_fast.py:9: UserWarning: LightFM was compiled without OpenMP support. Only a single thread will be used.\n",
      "  warnings.warn(\n"
     ]
    }
   ],
   "source": [
    "import os\n",
    "import json\n",
    "import numpy as np\n",
    "import pandas as pd\n",
    "import scipy.sparse as sp\n",
    "import lightfm\n",
    "from lightfm import LightFM\n",
    "from lightfm.data import Dataset\n",
    "from lightfm.evaluation import precision_at_k\n",
    "from lightfm.cross_validation import random_train_test_split\n",
    "from tqdm import tqdm\n",
    "\n",
    "from sklearn.preprocessing import LabelEncoder\n",
    "from sklearn.feature_extraction.text import CountVectorizer"
   ]
  },
  {
   "cell_type": "code",
   "execution_count": 2,
   "metadata": {},
   "outputs": [],
   "source": [
    "df_tracks = pd.read_csv('dfs/data_tracks.csv') #item features\n",
    "df_playlists = pd.read_csv('dfs/data_playlists_tracks.csv') #user-items\n",
    "df_playlists_info = pd.read_csv('dfs/data_playlists.csv') #user features\n",
    "df_playlists_test = pd.read_csv('dfs/data_playlists_tracks_test.csv')\n",
    "df_playlists_test_info = pd.read_csv('dfs/data_playlists_test.csv')"
   ]
  },
  {
   "cell_type": "code",
   "execution_count": 3,
   "metadata": {},
   "outputs": [],
   "source": [
    "df_playlists_info.head()\n",
    "\n",
    "#generator to get the names of the playlists in df_playlists_info\n",
    "def get_playlist_names(df_playlists_info):\n",
    "    for i, row in df_playlists_info.iterrows():\n",
    "        yield row['name']\n",
    "        "
   ]
  },
  {
   "cell_type": "code",
   "execution_count": 4,
   "metadata": {},
   "outputs": [
    {
     "name": "stdout",
     "output_type": "stream",
     "text": [
      "Num users: 30000, num_items 347153.\n"
     ]
    }
   ],
   "source": [
    "dataset = Dataset()\n",
    "dataset.fit(df_playlists.pid, df_tracks.tid)\n",
    "\n",
    "\n",
    "num_users, num_items = dataset.interactions_shape()\n",
    "print('Num users: {}, num_items {}.'.format(num_users, num_items))\n",
    "\n",
    "dataset.fit_partial(users=(row['pid'] for _, row in df_playlists_info.iterrows()),\n",
    "                    user_features=(row['name'] for _, row in df_playlists_info.iterrows()))"
   ]
  },
  {
   "cell_type": "code",
   "execution_count": 5,
   "metadata": {},
   "outputs": [
    {
     "name": "stdout",
     "output_type": "stream",
     "text": [
      "<30000x347153 sparse matrix of type '<class 'numpy.int32'>'\n",
      "\twith 2006743 stored elements in COOrdinate format>\n"
     ]
    }
   ],
   "source": [
    "(interactions, weights) = dataset.build_interactions(df_playlists[['pid', 'tid']].values)\n",
    "print(repr(interactions))"
   ]
  },
  {
   "cell_type": "code",
   "execution_count": 6,
   "metadata": {},
   "outputs": [
    {
     "data": {
      "text/html": [
       "<div>\n",
       "<style scoped>\n",
       "    .dataframe tbody tr th:only-of-type {\n",
       "        vertical-align: middle;\n",
       "    }\n",
       "\n",
       "    .dataframe tbody tr th {\n",
       "        vertical-align: top;\n",
       "    }\n",
       "\n",
       "    .dataframe thead th {\n",
       "        text-align: right;\n",
       "    }\n",
       "</style>\n",
       "<table border=\"1\" class=\"dataframe\">\n",
       "  <thead>\n",
       "    <tr style=\"text-align: right;\">\n",
       "      <th></th>\n",
       "      <th>pid</th>\n",
       "      <th>num_tracks</th>\n",
       "      <th>num_followers</th>\n",
       "      <th>num_edits</th>\n",
       "      <th>num_artists</th>\n",
       "      <th>num_albums</th>\n",
       "      <th>name</th>\n",
       "      <th>modified_at</th>\n",
       "      <th>duration_ms</th>\n",
       "      <th>collaborative</th>\n",
       "    </tr>\n",
       "  </thead>\n",
       "  <tbody>\n",
       "    <tr>\n",
       "      <th>0</th>\n",
       "      <td>0</td>\n",
       "      <td>52</td>\n",
       "      <td>1</td>\n",
       "      <td>6</td>\n",
       "      <td>37</td>\n",
       "      <td>47</td>\n",
       "      <td>Throwbacks</td>\n",
       "      <td>1493424000</td>\n",
       "      <td>11532414</td>\n",
       "      <td>False</td>\n",
       "    </tr>\n",
       "    <tr>\n",
       "      <th>1</th>\n",
       "      <td>1</td>\n",
       "      <td>39</td>\n",
       "      <td>1</td>\n",
       "      <td>5</td>\n",
       "      <td>21</td>\n",
       "      <td>23</td>\n",
       "      <td>Awesome Playlist</td>\n",
       "      <td>1506556800</td>\n",
       "      <td>11656470</td>\n",
       "      <td>False</td>\n",
       "    </tr>\n",
       "    <tr>\n",
       "      <th>2</th>\n",
       "      <td>2</td>\n",
       "      <td>64</td>\n",
       "      <td>1</td>\n",
       "      <td>18</td>\n",
       "      <td>31</td>\n",
       "      <td>51</td>\n",
       "      <td>korean</td>\n",
       "      <td>1505692800</td>\n",
       "      <td>14039958</td>\n",
       "      <td>False</td>\n",
       "    </tr>\n",
       "    <tr>\n",
       "      <th>3</th>\n",
       "      <td>3</td>\n",
       "      <td>126</td>\n",
       "      <td>1</td>\n",
       "      <td>4</td>\n",
       "      <td>86</td>\n",
       "      <td>107</td>\n",
       "      <td>mat</td>\n",
       "      <td>1501027200</td>\n",
       "      <td>28926058</td>\n",
       "      <td>False</td>\n",
       "    </tr>\n",
       "    <tr>\n",
       "      <th>4</th>\n",
       "      <td>4</td>\n",
       "      <td>17</td>\n",
       "      <td>2</td>\n",
       "      <td>7</td>\n",
       "      <td>16</td>\n",
       "      <td>16</td>\n",
       "      <td>90s</td>\n",
       "      <td>1401667200</td>\n",
       "      <td>4335282</td>\n",
       "      <td>False</td>\n",
       "    </tr>\n",
       "  </tbody>\n",
       "</table>\n",
       "</div>"
      ],
      "text/plain": [
       "   pid  num_tracks  num_followers  num_edits  num_artists  num_albums  \\\n",
       "0    0          52              1          6           37          47   \n",
       "1    1          39              1          5           21          23   \n",
       "2    2          64              1         18           31          51   \n",
       "3    3         126              1          4           86         107   \n",
       "4    4          17              2          7           16          16   \n",
       "\n",
       "               name  modified_at  duration_ms  collaborative  \n",
       "0        Throwbacks   1493424000     11532414          False  \n",
       "1  Awesome Playlist   1506556800     11656470          False  \n",
       "2           korean    1505692800     14039958          False  \n",
       "3               mat   1501027200     28926058          False  \n",
       "4               90s   1401667200      4335282          False  "
      ]
     },
     "execution_count": 6,
     "metadata": {},
     "output_type": "execute_result"
    }
   ],
   "source": [
    "df_playlists_info.head()\n"
   ]
  },
  {
   "cell_type": "code",
   "execution_count": 7,
   "metadata": {},
   "outputs": [
    {
     "name": "stdout",
     "output_type": "stream",
     "text": [
      "<30000x43602 sparse matrix of type '<class 'numpy.float32'>'\n",
      "\twith 60000 stored elements in Compressed Sparse Row format>\n"
     ]
    }
   ],
   "source": [
    "user_features = dataset.build_user_features([(x[0], [x[1]]) for x in df_playlists_info[['pid', 'name']].values])\n",
    "print(repr(user_features))\n",
    "\n",
    "#split the data into train and test\n",
    "train, test = random_train_test_split(interactions, test_percentage=0.2, random_state=np.random.RandomState(1337))"
   ]
  },
  {
   "cell_type": "code",
   "execution_count": 8,
   "metadata": {},
   "outputs": [
    {
     "name": "stdout",
     "output_type": "stream",
     "text": [
      "Train precision: 0.16\n"
     ]
    }
   ],
   "source": [
    "model = LightFM(loss='warp', no_components=100, learning_rate=0.05, random_state=1337)\n",
    "\n",
    "model.fit(interactions, epochs=10, num_threads=8, user_features=user_features)\n",
    "\n",
    "print(\"Train precision: %.2f\" % precision_at_k(model, train, k=50, user_features=user_features).mean())\n",
    "print(\"Test precision: %.2f\" % precision_at_k(model, test, k=50, user_features=user_features).mean())\n"
   ]
  },
  {
   "cell_type": "code",
   "execution_count": null,
   "metadata": {},
   "outputs": [],
   "source": []
  }
 ],
 "metadata": {
  "kernelspec": {
   "display_name": "lfmrec",
   "language": "python",
   "name": "python3"
  },
  "language_info": {
   "codemirror_mode": {
    "name": "ipython",
    "version": 3
   },
   "file_extension": ".py",
   "mimetype": "text/x-python",
   "name": "python",
   "nbconvert_exporter": "python",
   "pygments_lexer": "ipython3",
   "version": "3.9.16"
  },
  "orig_nbformat": 4,
  "vscode": {
   "interpreter": {
    "hash": "cd5507c5ee5b7ce2130003d64a6966151dbab762fae201d2eec114461e96cb4e"
   }
  }
 },
 "nbformat": 4,
 "nbformat_minor": 2
}
