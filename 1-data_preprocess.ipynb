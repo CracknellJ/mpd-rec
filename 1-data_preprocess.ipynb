{
 "cells": [
  {
   "cell_type": "code",
   "execution_count": 4,
   "metadata": {},
   "outputs": [],
   "source": [
    "import os\n",
    "import json\n",
    "import numpy as np\n",
    "import pandas as pd\n",
    "import scipy as sp\n",
    "import scipy.sparse as sps\n",
    "import lightfm\n",
    "from lightfm import LightFM\n"
   ]
  },
  {
   "cell_type": "code",
   "execution_count": 5,
   "metadata": {},
   "outputs": [],
   "source": [
    "path = 'data-5/'\n",
    "filenames = os.listdir(path)\n",
    "\n",
    "playlist_columns = ['pid', 'num_tracks', 'num_followers', 'num_edits', 'num_artists', 'num_albums', 'name', 'modified_at', 'duration_ms', 'collaborative']\n",
    "playlist_test_columns = ['name', 'num_holdouts', 'num_samples', 'num_tracks', 'pid']\n",
    "tracks_columns = ['album_name', 'album_uri', 'artist_name', 'artist_uri', 'duration_ms', 'track_name', 'track_uri']\n",
    "\n",
    "data_playlists = [] #playlist metadata\n",
    "playlists = [] #playlist track data\n",
    "data_tracks = [] #track metadata\n",
    "tracks = set() #unique track(ids)"
   ]
  },
  {
   "cell_type": "code",
   "execution_count": 6,
   "metadata": {},
   "outputs": [],
   "source": [
    "for filename in filenames:\n",
    "    slice = json.loads(open(path + filename).read())\n",
    "\n",
    "    for playlist in slice['playlists']:\n",
    "        data_playlists.append([playlist[col] for col in playlist_columns])\n",
    "        for track in playlist['tracks']:\n",
    "            playlists.append([playlist['pid'], track['track_uri'], track['pos']])\n",
    "            if track['track_uri'] not in tracks:\n",
    "                data_tracks.append([track[col] for col in tracks_columns])\n",
    "                tracks.add(track['track_uri'])\n",
    "\n",
    "\n",
    "# # %%\n",
    "# data_playlists_test = []\n",
    "# playlist_test = []\n",
    "\n",
    "# challenge = json.loads(open('challenge_set.json').read())\n",
    "\n",
    "# for playlist in challenge['playlists']:\n",
    "#     data_playlists_test.append([playlist.get(col, '') for col in playlist_test_columns])\n",
    "#     for track in playlist['tracks']:\n",
    "#         playlist_test.append([playlist['pid'], track['track_uri'], track['pos']])\n",
    "#         if track['track_uri'] not in tracks:\n",
    "#             data_tracks.append([track[col] for col in tracks_columns])\n",
    "#             tracks.add(track['track_uri'])"
   ]
  },
  {
   "cell_type": "code",
   "execution_count": null,
   "metadata": {},
   "outputs": [],
   "source": [
    "# %%\n",
    "df_data_playlists = pd.DataFrame(data_playlists, columns=playlist_columns)\n",
    "\n",
    "df_tracks = pd.DataFrame(data_tracks, columns=tracks_columns)\n",
    "df_tracks['tid'] = df_tracks.index\n",
    "trackuri2tid = df_tracks.set_index('track_uri').tid\n",
    "\n",
    "df_playlists = pd.DataFrame(playlists, columns=['pid', 'tid', 'pos'])\n",
    "df_playlists.tid = df_playlists.tid.map(trackuri2tid)\n",
    "\n",
    "# df_data_playlists_test = pd.DataFrame(data_playlists_test, columns=playlist_test_columns)\n",
    "\n",
    "# df_playlists_test = pd.DataFrame(playlist_test, columns=['pid', 'tid', 'pos'])\n",
    "# df_playlists_test.tid = df_playlists_test.tid.map(trackuri2tid)\n",
    "\n",
    "# %%\n",
    "#save dataframes to csv\n",
    "df_data_playlists.to_csv('dfs/data_playlists.csv', index=False)\n",
    "# df_data_playlists_test.to_csv('dfs/data_playlists_test.csv', index=False)\n",
    "df_tracks.to_csv('dfs/data_tracks.csv', index=False)\n",
    "df_playlists.to_csv('dfs/data_playlists_tracks.csv', index=False)\n",
    "# df_playlists_test.to_csv('dfs/data_playlists_tracks_test.csv', index=False)"
   ]
  }
 ],
 "metadata": {
  "kernelspec": {
   "display_name": "spotify-mpd",
   "language": "python",
   "name": "python3"
  },
  "language_info": {
   "codemirror_mode": {
    "name": "ipython",
    "version": 3
   },
   "file_extension": ".py",
   "mimetype": "text/x-python",
   "name": "python",
   "nbconvert_exporter": "python",
   "pygments_lexer": "ipython3",
   "version": "3.9.15"
  },
  "orig_nbformat": 4,
  "vscode": {
   "interpreter": {
    "hash": "683df9e2c4e97800e89ce03d549897fb7f4861870fa70abb9ee491751141aa3c"
   }
  }
 },
 "nbformat": 4,
 "nbformat_minor": 2
}
