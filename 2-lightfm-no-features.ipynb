{
 "cells": [
  {
   "cell_type": "code",
   "execution_count": 1,
   "metadata": {},
   "outputs": [
    {
     "name": "stderr",
     "output_type": "stream",
     "text": [
      "c:\\Users\\502425\\Anaconda3\\envs\\lfmrec\\lib\\site-packages\\lightfm\\_lightfm_fast.py:9: UserWarning: LightFM was compiled without OpenMP support. Only a single thread will be used.\n",
      "  warnings.warn(\n"
     ]
    }
   ],
   "source": [
    "import os\n",
    "import json\n",
    "import numpy as np\n",
    "import pandas as pd\n",
    "import scipy.sparse as sp\n",
    "import lightfm\n",
    "from lightfm import LightFM\n",
    "from lightfm.evaluation import precision_at_k\n",
    "from lightfm.cross_validation import random_train_test_split\n",
    "from tqdm import tqdm"
   ]
  },
  {
   "cell_type": "code",
   "execution_count": 2,
   "metadata": {},
   "outputs": [],
   "source": [
    "df_tracks = pd.read_csv('dfs/data_tracks.csv')\n",
    "df_playlists = pd.read_csv('dfs/data_playlists_tracks.csv')\n",
    "df_playlists_info = pd.read_csv('dfs/data_playlists.csv')\n",
    "df_playlists_test = pd.read_csv('dfs/data_playlists_tracks_test.csv')\n",
    "df_playlists_test_info = pd.read_csv('dfs/data_playlists_test.csv')"
   ]
  },
  {
   "cell_type": "code",
   "execution_count": 3,
   "metadata": {},
   "outputs": [],
   "source": [
    "config = {\n",
    "    'num_playlists': df_playlists_test_info.pid.max() + 1,\n",
    "    'num_tracks': df_tracks.tid.max() + 1,\n",
    "}"
   ]
  },
  {
   "cell_type": "code",
   "execution_count": 4,
   "metadata": {},
   "outputs": [],
   "source": [
    "mat = sp.coo_matrix(\n",
    "    (np.ones(df_playlists.shape[0]), (df_playlists.pid, df_playlists.tid)),\n",
    "    shape=(config['num_playlists'], config['num_tracks'])\n",
    ")\n",
    "\n",
    "X_train, X_test = random_train_test_split(mat, test_percentage=0.2, random_state=42)\n",
    "\n",
    "config['model_path'] = 'models/lightfm_model.pkl'"
   ]
  },
  {
   "cell_type": "code",
   "execution_count": 5,
   "metadata": {},
   "outputs": [],
   "source": [
    "model = LightFM(loss='warp', no_components=100, learning_rate=0.05, random_state=1337)"
   ]
  },
  {
   "cell_type": "code",
   "execution_count": 6,
   "metadata": {},
   "outputs": [],
   "source": [
    "model.fit(X_train, epochs=10, num_threads=12)\n",
    "\n",
    "print(\"Train precision: %.2f\" % precision_at_k(model, X_train, k=50).mean())\n",
    "print(\"Test precision: %.2f\" % precision_at_k(model, X_test, k=50).mean())\n"
   ]
  }
 ],
 "metadata": {
  "kernelspec": {
   "display_name": "base",
   "language": "python",
   "name": "python3"
  },
  "language_info": {
   "codemirror_mode": {
    "name": "ipython",
    "version": 3
   },
   "file_extension": ".py",
   "mimetype": "text/x-python",
   "name": "python",
   "nbconvert_exporter": "python",
   "pygments_lexer": "ipython3",
   "version": "3.9.13 (main, Aug 25 2022, 23:51:50) [MSC v.1916 64 bit (AMD64)]"
  },
  "orig_nbformat": 4,
  "vscode": {
   "interpreter": {
    "hash": "9643afbb58b65f4af4e3bba44a0fa8422ef9807e3cf8af0cd7436e32de1f92d2"
   }
  }
 },
 "nbformat": 4,
 "nbformat_minor": 2
}
